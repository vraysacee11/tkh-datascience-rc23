{
 "cells": [
  {
   "cell_type": "markdown",
   "metadata": {},
   "source": [
    "# Review"
   ]
  },
  {
   "cell_type": "code",
   "execution_count": null,
   "metadata": {},
   "outputs": [],
   "source": [
    "class Pokemon:\n",
    "    def __init__(self, name, hp, ap):\n",
    "        self.name = name\n",
    "        self.hp = hp\n",
    "        self.ap = ap\n",
    "    \n",
    "    def attack(self, other):\n",
    "        other.ap -= self.ap\n",
    "\n",
    "\n",
    "pokA = Pokemon(\"charmander\", 100, 20)\n",
    "pokB = Pokemon(\"squirtle\", 100, 30)"
   ]
  },
  {
   "cell_type": "code",
   "execution_count": null,
   "metadata": {},
   "outputs": [],
   "source": [
    "# what are the attributes of this class?\n"
   ]
  },
  {
   "cell_type": "code",
   "execution_count": null,
   "metadata": {},
   "outputs": [],
   "source": [
    "# what are the methods of this class?\n"
   ]
  },
  {
   "cell_type": "code",
   "execution_count": 1,
   "metadata": {},
   "outputs": [
    {
     "ename": "NameError",
     "evalue": "name 'pokA' is not defined",
     "output_type": "error",
     "traceback": [
      "\u001b[0;31m---------------------------------------------------------------------------\u001b[0m",
      "\u001b[0;31mNameError\u001b[0m                                 Traceback (most recent call last)",
      "Cell \u001b[0;32mIn[1], line 3\u001b[0m\n\u001b[1;32m      1\u001b[0m \u001b[39m# what will be the result of the following code?\u001b[39;00m\n\u001b[0;32m----> 3\u001b[0m pokA\u001b[39m.\u001b[39mattack(pokB)\n",
      "\u001b[0;31mNameError\u001b[0m: name 'pokA' is not defined"
     ]
    }
   ],
   "source": [
    "# what will be the result of the following code?\n",
    "\n",
    "pokA.attack(pokB)\n"
   ]
  },
  {
   "cell_type": "code",
   "execution_count": 3,
   "metadata": {},
   "outputs": [
    {
     "ename": "NameError",
     "evalue": "name 'Pokemon' is not defined",
     "output_type": "error",
     "traceback": [
      "\u001b[0;31m---------------------------------------------------------------------------\u001b[0m",
      "\u001b[0;31mNameError\u001b[0m                                 Traceback (most recent call last)",
      "Cell \u001b[0;32mIn[3], line 3\u001b[0m\n\u001b[1;32m      1\u001b[0m \u001b[39m# how can I create a 3rd Pokemon object ‘pokC’ with name “bulbasaur”, health 80, and attack 30.\u001b[39;00m\n\u001b[0;32m----> 3\u001b[0m pokC\u001b[39m=\u001b[39m Pokemon(\u001b[39m\"\u001b[39m\u001b[39mbulbasaur\u001b[39m\u001b[39m\"\u001b[39m,\u001b[39m80\u001b[39m,\u001b[39m30\u001b[39m)\n",
      "\u001b[0;31mNameError\u001b[0m: name 'Pokemon' is not defined"
     ]
    }
   ],
   "source": [
    "# how can I create a 3rd Pokemon object ‘pokC’ with name “bulbasaur”, health 80, and attack 30.\n",
    "\n",
    "pokC= Pokemon(\"bulbasaur\",80,30)"
   ]
  }
 ],
 "metadata": {
  "kernelspec": {
   "display_name": "phase1",
   "language": "python",
   "name": "python3"
  },
  "language_info": {
   "codemirror_mode": {
    "name": "ipython",
    "version": 3
   },
   "file_extension": ".py",
   "mimetype": "text/x-python",
   "name": "python",
   "nbconvert_exporter": "python",
   "pygments_lexer": "ipython3",
   "version": "3.10.13"
  }
 },
 "nbformat": 4,
 "nbformat_minor": 2
}
