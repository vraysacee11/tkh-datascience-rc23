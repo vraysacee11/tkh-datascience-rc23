{
 "cells": [
  {
   "cell_type": "markdown",
   "metadata": {},
   "source": [
    "# Z-Test Lab\n",
    "Because we've already done a manual calculation of the t-test, lets try doing the z-test.\n",
    "\n",
    "Spend some time reading through this geek-for-geeks article. https://www.geeksforgeeks.org/z-test/#\n",
    "\n",
    "Then take the code examples that are given in the article and recreate a one-tailed one-sample z-test and a two-tailed two-sampled z-test."
   ]
  },
  {
   "cell_type": "code",
   "execution_count": 42,
   "metadata": {},
   "outputs": [
    {
     "ename": "IndentationError",
     "evalue": "expected an indented block after 'if' statement on line 25 (1511244435.py, line 26)",
     "output_type": "error",
     "traceback": [
      "\u001b[0;36m  Cell \u001b[0;32mIn[42], line 26\u001b[0;36m\u001b[0m\n\u001b[0;31m    print(\"Reject Null Hypothesis\")\u001b[0m\n\u001b[0m    ^\u001b[0m\n\u001b[0;31mIndentationError\u001b[0m\u001b[0;31m:\u001b[0m expected an indented block after 'if' statement on line 25\n"
     ]
    }
   ],
   "source": [
    "## Write the imports you'll need here\n",
    "\n",
    "# Import the necessary libraries\n",
    "import numpy as np\n",
    "import scipy.stats as stats\n",
    "\n",
    "# Given information\n",
    "sample_mean = 110\n",
    "population_mean = 100\n",
    "population_std = 15\n",
    "sample_size = 50\n",
    "alpha = 0.05\n",
    "\n",
    "# compute the z-score\n",
    "z_score = (sample_mean-population_mean)/(population_std/np.sqrt(50))\n",
    "print('Z-Score :',z_score)\n",
    "\n",
    "# Approach 1: Using Critical Z-Score\n",
    "\n",
    "# Critical Z-Score\n",
    "z_critical = stats.norm.ppf(1-alpha)\n",
    "print('Critical Z-Score :',z_critical)\n",
    "\n",
    "# Hypothesis\n",
    "if z_score > z_critical:\n",
    "print(\"Reject Null Hypothesis\")\n",
    "else:\n",
    "print(\"Fail to Reject Null Hypothesis\")\n",
    "\n",
    "# Approach 2: Using P-value\n",
    "\t\n",
    "# P-Value : Probability of getting less than a Z-score\n",
    "p_value = 1-stats.norm.cdf(z_score)\n",
    "\n",
    "print('p-value :',p_value)\n",
    "\n",
    "# Hypothesis\n",
    "if p_value < alpha:\n",
    " print(\"Reject Null Hypothesis\")\n",
    "else:\n",
    " print(\"Fail to Reject Null Hypothesis\")\n"
   ]
  },
  {
   "cell_type": "markdown",
   "metadata": {},
   "source": [
    "## One-Sample Z-Test"
   ]
  },
  {
   "cell_type": "code",
   "execution_count": 43,
   "metadata": {},
   "outputs": [],
   "source": [
    "\n",
    "# Given information for one-tailed one-sample Z-test\n",
    "# Assume we have a sample size of 100 with a mean of 310\n",
    "# Assume we know the population mean of 280 with a known population std deviation of 20\n",
    "# At an alpha = 0.05 can we confidently say that these two groups are different?"
   ]
  },
  {
   "cell_type": "code",
   "execution_count": 45,
   "metadata": {},
   "outputs": [],
   "source": [
    "# Use the cell for calculating and using z-score as a measure of critical value\n",
    "\n"
   ]
  },
  {
   "cell_type": "code",
   "execution_count": 49,
   "metadata": {},
   "outputs": [
    {
     "name": "stdout",
     "output_type": "stream",
     "text": [
      "Z-Score : 30.0\n"
     ]
    }
   ],
   "source": [
    "# Given information\n",
    "sample_mean = 310\n",
    "population_mean = 280\n",
    "population_std = 20\n",
    "sample_size = 100 \n",
    "alpha = 0.05\n",
    "\n",
    "# compute the z-score\n",
    "z_score = (sample_mean-population_mean)/(population_std/(20))\n",
    "print('Z-Score :',z_score)\n"
   ]
  },
  {
   "cell_type": "code",
   "execution_count": null,
   "metadata": {},
   "outputs": [],
   "source": [
    "# Use this cell for calculating and using the z-score for calculating the appropriate p-value"
   ]
  },
  {
   "cell_type": "markdown",
   "metadata": {},
   "source": [
    "### Two-Sample Z-Test\n"
   ]
  },
  {
   "cell_type": "code",
   "execution_count": null,
   "metadata": {},
   "outputs": [],
   "source": [
    "# Given that we have the following two groups, use a z-test to determine if they are significantly different.\n",
    "# Group A (Coffee Drinkers), group size of 100, mean of 90, and standard deviation of 12\n",
    "# Group B (Non-Coffe Drinkers), group size of 110, mean of 75, and standard deviation of 10\n",
    "\n",
    " "
   ]
  },
  {
   "cell_type": "code",
   "execution_count": null,
   "metadata": {},
   "outputs": [],
   "source": [
    "# Use this cell for calculating the z-score and comparing against the critical"
   ]
  },
  {
   "cell_type": "code",
   "execution_count": null,
   "metadata": {},
   "outputs": [],
   "source": [
    "# Use this cell for calculating the p-value"
   ]
  },
  {
   "cell_type": "markdown",
   "metadata": {},
   "source": [
    "### Debrief\n",
    "\n",
    "You might not know exactly what is going on in the code right now.\n",
    "\n",
    "In your groups, do some research on the individual functions and what they mean. Share your thoughts on what these functions are using and what concepts are new.\n",
    "\n",
    "How is the idea of what you did using the code related to what we discussed in class?\n",
    "\n",
    "To help with this idea, read: https://stackoverflow.com/questions/65468026/norm-ppf-vs-norm-cdf-in-pythons-scipy-stats "
   ]
  }
 ],
 "metadata": {
  "kernelspec": {
   "display_name": "base",
   "language": "python",
   "name": "python3"
  },
  "language_info": {
   "codemirror_mode": {
    "name": "ipython",
    "version": 3
   },
   "file_extension": ".py",
   "mimetype": "text/x-python",
   "name": "python",
   "nbconvert_exporter": "python",
   "pygments_lexer": "ipython3",
   "version": "3.11.4"
  },
  "orig_nbformat": 4
 },
 "nbformat": 4,
 "nbformat_minor": 2
}
